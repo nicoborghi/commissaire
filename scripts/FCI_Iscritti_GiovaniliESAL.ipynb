{
 "cells": [
  {
   "attachments": {},
   "cell_type": "markdown",
   "metadata": {},
   "source": [
    "# Controlla iscrizioni\n",
    "Script that performs checks that FCI/ksport should do..."
   ]
  },
  {
   "cell_type": "code",
   "execution_count": 4,
   "metadata": {},
   "outputs": [
    {
     "name": "stdout",
     "output_type": "stream",
     "text": [
      "##########################################################\n",
      " 167043 - GP COOPERATORI - 2° PROVA GIRO DELLE 3 PROVINCE\n",
      "##########################################################\n",
      "\n",
      "Ntot: 90 (excluding team managers)\n",
      "\n",
      "ES    90\n",
      "Name: Categoria, dtype: int64\n",
      "\n",
      "2009    90\n",
      "Name: year_of_birth, dtype: int64\n",
      "\n",
      "Nteams: 27\n"
     ]
    }
   ],
   "source": [
    "import pandas as pd\n",
    "import numpy as np\n",
    "\n",
    "dir_iscrivi = \"/home/nic/al/commissaire/data/Iscritti_167043.xls\"\n",
    "\n",
    "# Load dataset\n",
    "df   = pd.read_excel(dir_iscrivi)\n",
    "Nall = len(df)\n",
    "\n",
    "# Name, and ID of the competiton\n",
    "idGara, nomeGara = df[\"IdGara\"][0],df[\"NomeGara\"][0]\n",
    "df = df.drop(columns=[\"IdGara\", \"NomeGara\"])\n",
    "print(\"#\"*(11+len(nomeGara)))\n",
    "print(\" {:d} - {:s}\".format(idGara, nomeGara))\n",
    "print(\"#\"*(11+len(nomeGara))+\"\\n\")\n",
    "\n",
    "# Remove teams that put leading spaces as their name, and re-sort\n",
    "df['NomeSocieta'] = df['NomeSocieta'].str.lstrip()\n",
    "df = df.sort_values('NomeSocieta')\n",
    "\n",
    "print(\"Ntot: {:d} (excluding team managers)\".format(np.sum((~df['Categoria'].isin(['TA2', 'TA3'])))))\n",
    "\n",
    "# PRINT Categories of the enrolled riders and managers\n",
    "# cat_counts_all = df['Categoria'].value_counts()\n",
    "cat_counts        = df['Categoria'].value_counts()\n",
    "print()\n",
    "print(cat_counts)\n",
    "\n",
    "\n",
    "# Check year of birth\n",
    "df[\"year_of_birth\"] = pd.to_numeric(df[\"DataNascita\"].str[-4:])\n",
    "df[\"age\"] = 2023 - df[\"year_of_birth\"]\n",
    "# df_year   = df.groupby(\"year_of_birth\")\n",
    "cat_counts        = df['year_of_birth'].value_counts()\n",
    "print()\n",
    "print(cat_counts)\n",
    "\n",
    "# teams_names = [s.replace(\" \", \"\") for s in teams_names]\n",
    "\n",
    "# Group by teams\n",
    "df_teams    = df.groupby(\"NomeSocieta\")\n",
    "teams_names = df_teams.groups.keys()\n",
    "Nteams      = len(teams_names)\n",
    "print(\"\\nNteams: {:d}\".format(Nteams))"
   ]
  },
  {
   "cell_type": "code",
   "execution_count": 5,
   "metadata": {},
   "outputs": [
    {
     "name": "stdout",
     "output_type": "stream",
     "text": [
      "| DorsaleNumero   | NomeTesserato   | CodiceFCI   | Categoria   | CodiceUci   | Nazionalità   | DataNascita   | NomeSocieta   | CodiceSocieta   | CodiceFiscale   | Sesso   | Note   | Cognome   | Nome   | Riserva   | Scadenza Certificato   | Provincia   | year_of_birth   | age   |\n",
      "|-----------------|-----------------|-------------|-------------|-------------|---------------|---------------|---------------|-----------------|-----------------|---------|--------|-----------|--------|-----------|------------------------|-------------|-----------------|-------|\n"
     ]
    }
   ],
   "source": [
    "print(df[df['Categoria']==\"DA\"].to_markdown())"
   ]
  },
  {
   "cell_type": "code",
   "execution_count": 3,
   "metadata": {},
   "outputs": [
    {
     "name": "stdout",
     "output_type": "stream",
     "text": [
      "| DorsaleNumero   | NomeTesserato   | CodiceFCI   | Categoria   | CodiceUci   | Nazionalità   | DataNascita   | NomeSocieta   | CodiceSocieta   | CodiceFiscale   | Sesso   | Note   | Cognome   | Nome   | Riserva   | Scadenza Certificato   | Provincia   | year_of_birth   | age   |\n",
      "|-----------------|-----------------|-------------|-------------|-------------|---------------|---------------|---------------|-----------------|-----------------|---------|--------|-----------|--------|-----------|------------------------|-------------|-----------------|-------|\n"
     ]
    }
   ],
   "source": [
    "print(df[df['Categoria']==\"ED\"].to_markdown())"
   ]
  },
  {
   "cell_type": "code",
   "execution_count": null,
   "metadata": {},
   "outputs": [],
   "source": []
  }
 ],
 "metadata": {
  "kernelspec": {
   "display_name": "base",
   "language": "python",
   "name": "python3"
  },
  "language_info": {
   "codemirror_mode": {
    "name": "ipython",
    "version": 3
   },
   "file_extension": ".py",
   "mimetype": "text/x-python",
   "name": "python",
   "nbconvert_exporter": "python",
   "pygments_lexer": "ipython3",
   "version": "3.9.5"
  },
  "orig_nbformat": 4,
  "vscode": {
   "interpreter": {
    "hash": "e66883aae12c4601dd81d6d0c512a7849a9670fe1c3d0d1b18f75932270c3267"
   }
  }
 },
 "nbformat": 4,
 "nbformat_minor": 2
}
