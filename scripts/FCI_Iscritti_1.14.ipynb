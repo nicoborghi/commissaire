{
 "cells": [
  {
   "attachments": {},
   "cell_type": "markdown",
   "metadata": {},
   "source": [
    "# Controlla iscrizioni\n",
    "Script that performs checks that FCI/ksport should do..."
   ]
  },
  {
   "cell_type": "code",
   "execution_count": null,
   "metadata": {},
   "outputs": [],
   "source": [
    "import pandas as pd\n",
    "import numpy as np\n",
    "\n",
    "dir_iscrivi = \"/home/nic/al/commissaire/data/Coda_164860.xls\"\n",
    "\n",
    "# Load dataset\n",
    "df   = pd.read_excel(dir_iscrivi)\n",
    "Nall = len(df)\n",
    "\n",
    "# Name, and ID of the competiton\n",
    "idGara, nomeGara = df[\"IdGara\"][0],df[\"NomeGara\"][0]\n",
    "df = df.drop(columns=[\"IdGara\", \"NomeGara\"])\n",
    "\n",
    "# Categories of the enrolled riders\n",
    "# cat_counts_all = df['Categoria'].value_counts()\n",
    "cat_counts        = df['Categoria'][(df[\"Riserva\"]==\"NO\") & (~df['Categoria'].isin(['TA2', 'TA3'])) ].value_counts()\n",
    "cat_counts_ris    = df['Categoria'][(df[\"Riserva\"]==\"SI\") & (~df['Categoria'].isin(['TA2', 'TA3'])) ].value_counts()\n",
    "cat_table         = pd.merge(cat_counts, cat_counts_ris, left_index=True, right_index=True, how='outer')\n",
    "cat_table.columns = ['', 'Ris']\n",
    "\n",
    "\n",
    "# Remove teams that put leading spaces as their name, and re-sort\n",
    "df['NomeSocieta'] = df['NomeSocieta'].str.lstrip()\n",
    "df = df.sort_values('NomeSocieta')\n",
    "\n",
    "# Group by teams\n",
    "df_teams    = df.groupby(\"NomeSocieta\")\n",
    "teams_names = df_teams.groups.keys()\n",
    "Nteams      = len(teams_names)\n",
    "\n",
    "\n",
    "\n",
    "# teams_names = [s.replace(\" \", \"\") for s in teams_names]\n",
    "\n",
    "print(\"#\"*(11+len(nomeGara)))\n",
    "print(\" {:d} - {:s}\".format(idGara, nomeGara))\n",
    "print(\"#\"*(11+len(nomeGara))+\"\\n\")\n",
    "print(\"Dataset length: {:d} ({:d} teams)\\n\".format(Nall,Nteams))\n",
    "\n",
    "print(cat_table)\n",
    "print(\"TOT  {:d}   {:d}\".format(cat_counts.sum(),cat_counts_ris.sum()))\n",
    "# result.colums = [\"e\", \"ris\"]"
   ]
  },
  {
   "cell_type": "code",
   "execution_count": null,
   "metadata": {},
   "outputs": [],
   "source": [
    "[print(i) for i in teams_names];"
   ]
  },
  {
   "attachments": {},
   "cell_type": "markdown",
   "metadata": {},
   "source": [
    "### Check 1 - REG\n",
    "Riders with (\"REG\": registrazione atleta estero) must be authorised by the STF of the national federation.\n",
    "FCI: the authorizations are uploaded on the GARS system."
   ]
  },
  {
   "cell_type": "code",
   "execution_count": null,
   "metadata": {},
   "outputs": [],
   "source": [
    "pd.Series([cat_counts, cat_counts_ris])\n",
    "df[\"year_of_birth\"] = pd.to_numeric(df[\"DataNascita\"].str[-4:])\n",
    "df[\"age\"] = 2023 - df[\"year_of_birth\"]\n",
    "print(df[[\"NomeTesserato\", \"Categoria\", \"age\", \"NomeSocieta\", \"CodiceSocieta\", \"Riserva\"]][df[\"Categoria\"]==\"REG\"].to_markdown())"
   ]
  },
  {
   "cell_type": "code",
   "execution_count": null,
   "metadata": {},
   "outputs": [],
   "source": [
    "print(df[[\"NomeTesserato\", \"Categoria\", \"age\", \"NomeSocieta\", \"Riserva\"]][df[\"Categoria\"]==\"UN\"].to_markdown())"
   ]
  },
  {
   "attachments": {},
   "cell_type": "markdown",
   "metadata": {},
   "source": [
    "### Check 2 - Age (& enrolled team directors)\n",
    "In EL/U23 competition maximum age is 27 yr for italian riders and 25 yr for foreigners."
   ]
  },
  {
   "cell_type": "code",
   "execution_count": null,
   "metadata": {},
   "outputs": [],
   "source": [
    "older_25 = df[\"age\"] >= 27\n",
    "\n",
    "if sum(older_25) > 0:\n",
    "    print(df[[\"NomeTesserato\", \"Categoria\", \"age\", \"NomeSocieta\", \"Nazionalità\"]][older_25].to_markdown())"
   ]
  },
  {
   "attachments": {},
   "cell_type": "markdown",
   "metadata": {},
   "source": [
    "### Check 3 - Number of riders enrolled per team\n",
    "In 1.19 competitions the maximum number of riders per team is set to **10** (and 50% reserves). This number becomes **9** if there are there are only two competitions (reg/naz/int) and the organizing team can have +2 riders. If the total number of enrolled riders is less than 80, each team may have up to 12 riders. From this computation first year U23 category riders are excluded."
   ]
  },
  {
   "cell_type": "code",
   "execution_count": null,
   "metadata": {},
   "outputs": [],
   "source": [
    "# Loop through each team and check the maximum number of riders\n",
    "\n",
    "# Define the maximum number of riders per team based on the competition rules\n",
    "max_riders                  = 10\n",
    "# Define the maximum number of riders per team if there are only two competitions\n",
    "max_riders_two_competitions = 9\n",
    "# Define the maximum number of riders per team if the total enrolled riders is less than 80\n",
    "max_riders_less_than_80     = 12\n",
    "# Define the minimum year for eligibility based on the age limit of 18\n",
    "min_year                    = 2003\n",
    "\n",
    "Nlimite = max_riders_two_competitions\n",
    "\n",
    "df_teams1 = df_teams[[\"NomeTesserato\", \"Categoria\", \"year_of_birth\", \"Nazionalità\", \"NomeSocieta\", \"Riserva\"]]\n",
    "\n",
    "i = 0\n",
    "for team, data in df_teams1:\n",
    "    i += 1\n",
    "    print(\"\\n(\", i, \")  ############\",team,\"############\")\n",
    "    data       = data[~data['Categoria'].isin(['TA2', 'TA3'])]\n",
    "    Niscritti  = len(data[data[\"Riserva\"]==\"NO\"])\n",
    "    Nriserve   = len(data[data[\"Riserva\"]==\"SI\"])\n",
    "    print(\"Iscritti:   {:d}\".format(Niscritti))\n",
    "    if Nriserve > Nlimite:\n",
    "        print(\"            ^ WARNING\")\n",
    "    print(\"Riserve:    {:d}\".format(Nriserve))\n",
    "    if Nriserve > int(0.5*Niscritti):\n",
    "        print(\"            ^ WARNING\")\n",
    "    data       = data.sort_values(\"year_of_birth\").sort_values('Riserva')\n",
    "\n",
    "    data['year_of_birth'] = data['year_of_birth'].astype(str)\n",
    "    data.loc[data['year_of_birth'] == '2004', 'year_of_birth'] = '*2004'\n",
    "\n",
    "    data.index =  pd.RangeIndex(start=1, stop=len(data)+1)\n",
    "    # data.reset_index(drop=True, inplace=True)\n",
    "    print(data.to_markdown())\n",
    "\n",
    "\n",
    "    # eligible_riders = data[data['year_of_birth'] < min_year]\n",
    "    # num_eligible_riders = len(eligible_riders)\n",
    "    # if num_riders < 80:\n",
    "    #     max_riders_team = max_riders_less_than_80\n",
    "    # elif num_riders >= 80 and len(data[data['year_of_birth'] >= min_year]) > 0:\n",
    "    #     max_riders_team = max_riders_two_competitions\n",
    "    # else:\n",
    "    #     max_riders_team = max_riders\n",
    "    # if num_eligible_riders > max_riders_team:\n",
    "    #     print(f'Team {team} has {num_eligible_riders} eligible riders, exceeding the maximum of {max_riders_team}')\n",
    "    # else:\n",
    "    #     print(f'Team {team} has {num_eligible_riders} eligible riders within the maximum of {max_riders_team}')"
   ]
  },
  {
   "attachments": {},
   "cell_type": "markdown",
   "metadata": {},
   "source": [
    "### Check 4 & Docs - Fiches\n",
    "The organizer should send the IDs of each rider, to merge with the previous dataset"
   ]
  },
  {
   "cell_type": "code",
   "execution_count": null,
   "metadata": {},
   "outputs": [],
   "source": [
    "dir_dorsale = \"/home/nic/al/commissaire/data/165801_iscrittiDorsali.csv\"\n",
    "\n",
    "# Load dataset\n",
    "dors   = pd.read_csv(dir_dorsale, delimiter=\"\\t\", header=None, usecols=[0,4])\n",
    "dors.columns = [\"Dors\", \"CodiceUci\"]\n",
    "#dors   = dors.drop([1,2,3], axis=1)\n",
    "\n",
    "df_dors = df.merge(dors, how='outer', on='CodiceUci')\n",
    "df_dors['Dors'] = df_dors['Dors'].astype(pd.Int64Dtype())\n",
    "\n",
    "\n",
    "df_teams2t    = df_dors.groupby(\"NomeSocieta\")\n",
    "df_teams2 = df_teams2t[[\"Dors\",\"NomeTesserato\", \"Categoria\", \"CodiceUci\", \"Nazionalità\", \"DataNascita\", \"NomeSocieta\", \"Riserva\"]]\n",
    "# df_teams2 = df_teams2.first().sort_values(by=\"NomeSocieta\")\n",
    "# df_names_keys = df[\"NomeSocieta\"].unique()"
   ]
  },
  {
   "cell_type": "code",
   "execution_count": null,
   "metadata": {},
   "outputs": [],
   "source": [
    "# df_teams2\n",
    "i=0\n",
    "for team, data in df_teams2:\n",
    "    i += 1\n",
    "    data       = data[~data['Categoria'].isin(['TA2', 'TA3'])]\n",
    "    Niscritti  = len(data[data[\"Riserva\"]==\"NO\"])\n",
    "    Nriserve   = len(data[data[\"Riserva\"]==\"SI\"])\n",
    "\n",
    "    # print(data[\"NomeSocieta\"])\n",
    "    print(\"\\n(\", i, \")  ############\",list(data[\"NomeSocieta\"])[0],\"############  (iscritti: {:d}, riserve: {:d})\".format(Niscritti,Nriserve))\n",
    "\n",
    "    data = data.rename(columns={\"NomeTesserato\":\"Nome\",\n",
    "                                \"Categoria\":\"Cat\",\n",
    "                                \"CodiceUci\":\"Cod UCI\",\n",
    "                                \"Nazionalità\":\"Naz\",\n",
    "                                \"DataNascita\":\"Anno\",\n",
    "                                \"NomeSocieta\":\"Società\",\n",
    "                                \"Riserva\":\"Ris\"})\n",
    "    \n",
    "    # data       = data.sort_values(\"Cat\").sort_values('Ris')\n",
    "    data.loc[data[\"Ris\"]==\"NO\", \"Ris\"] = \" \"\n",
    "    # data.loc[data[\"Dors\"].isnull()] = \" \"\n",
    "    data       = data.sort_values(\"Dors\")\n",
    "    nan_dors     = data[\"Dors\"].isnull().values  #==\"nan\"\n",
    "    data[\"Dors\"] = data[\"Dors\"].astype(str)\n",
    "    data.loc[nan_dors, \"Dors\"]  = \"\"\n",
    "    \n",
    "    # data.loc[~nan_dors, \"Dors\"] = int()\n",
    "    \n",
    "    #.fillna('')#\n",
    "    data['Anno'] = pd.to_numeric(data[\"Anno\"].str[-4:])\n",
    "    # data.loc[data['year_of_birth'] == '2004', 'year_of_birth'] = '*2004'\n",
    "\n",
    "    data.index =  pd.RangeIndex(start=1, stop=len(data)+1)\n",
    "    # data.reset_index(drop=True, inplace=True)\n",
    "    print(data.to_markdown())"
   ]
  },
  {
   "cell_type": "code",
   "execution_count": null,
   "metadata": {},
   "outputs": [],
   "source": [
    "print(df_teams.groups)"
   ]
  },
  {
   "cell_type": "code",
   "execution_count": null,
   "metadata": {},
   "outputs": [],
   "source": [
    "df"
   ]
  }
 ],
 "metadata": {
  "kernelspec": {
   "display_name": "base",
   "language": "python",
   "name": "python3"
  },
  "language_info": {
   "codemirror_mode": {
    "name": "ipython",
    "version": 3
   },
   "file_extension": ".py",
   "mimetype": "text/x-python",
   "name": "python",
   "nbconvert_exporter": "python",
   "pygments_lexer": "ipython3",
   "version": "3.9.5"
  },
  "orig_nbformat": 4,
  "vscode": {
   "interpreter": {
    "hash": "e66883aae12c4601dd81d6d0c512a7849a9670fe1c3d0d1b18f75932270c3267"
   }
  }
 },
 "nbformat": 4,
 "nbformat_minor": 2
}
